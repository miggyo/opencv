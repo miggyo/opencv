{
 "cells": [
  {
   "cell_type": "code",
   "execution_count": 3,
   "metadata": {},
   "outputs": [],
   "source": [
    "import sys\n",
    "import numpy as np\n",
    "import cv2\n"
   ]
  },
  {
   "cell_type": "code",
   "execution_count": 11,
   "metadata": {},
   "outputs": [],
   "source": [
    "src = cv2.imread('../../data/lion_king.jpg', cv2.IMREAD_GRAYSCALE)"
   ]
  },
  {
   "cell_type": "code",
   "execution_count": 6,
   "metadata": {},
   "outputs": [],
   "source": [
    "src = cv2.imread('../../data/lion_king.jpg', cv2.IMREAD_GRAYSCALE)\n",
    "\n",
    "#dst = cv2.filter2D(src, -1, kernel)\n",
    "dst = cv2.blur(src, (3, 3))\n",
    "cv2.imshow('src', src)\n",
    "cv2.imshow('dst', dst)\n",
    "cv2.waitKey()\n",
    "cv2.destroyAllWindows()"
   ]
  },
  {
   "cell_type": "code",
   "execution_count": 7,
   "metadata": {},
   "outputs": [],
   "source": [
    "cv2.imshow('src', src)\n",
    "for sigma in range(1, 6):\n",
    "    # sigma 값을 이용하여 가우시안 필터링\n",
    "    dst = cv2.GaussianBlur(src, (0, 0), sigma)\n",
    "    desc = 'sigma = {}'.format(sigma)\n",
    "    cv2.putText(dst, desc, (10, 30), cv2.FONT_HERSHEY_SIMPLEX,\n",
    "    1.0, 255, 1, cv2.LINE_AA)\n",
    "    cv2.imshow('dst', dst)\n",
    "    cv2.waitKey()\n",
    "cv2.destroyAllWindows()"
   ]
  },
  {
   "cell_type": "code",
   "execution_count": 8,
   "metadata": {},
   "outputs": [],
   "source": [
    "blr = cv2.GaussianBlur(src, (0, 0), 2)\n",
    "dst = np.clip(2.0*src - blr, 0, 255).astype(np.uint8)\n",
    "cv2.imshow('src', src)\n",
    "cv2.imshow('blr', blr)\n",
    "cv2.imshow('dst', dst)\n",
    "cv2.waitKey()\n",
    "cv2.destroyAllWindows()"
   ]
  },
  {
   "cell_type": "markdown",
   "metadata": {},
   "source": [
    " 가우시안 블러를 적용한 이미지와 원본 이미지 간의 차이를 증폭시켜 엣지를 강조하고, 그 결과를 0과 255 사이의 정수값으로 클리핑하여 반환"
   ]
  },
  {
   "cell_type": "code",
   "execution_count": null,
   "metadata": {},
   "outputs": [],
   "source": []
  }
 ],
 "metadata": {
  "kernelspec": {
   "display_name": "opencv",
   "language": "python",
   "name": "python3"
  },
  "language_info": {
   "codemirror_mode": {
    "name": "ipython",
    "version": 3
   },
   "file_extension": ".py",
   "mimetype": "text/x-python",
   "name": "python",
   "nbconvert_exporter": "python",
   "pygments_lexer": "ipython3",
   "version": "3.10.12"
  }
 },
 "nbformat": 4,
 "nbformat_minor": 2
}
