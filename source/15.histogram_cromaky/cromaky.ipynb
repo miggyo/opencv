{
 "cells": [
  {
   "cell_type": "code",
   "execution_count": 14,
   "metadata": {},
   "outputs": [
    {
     "name": "stdout",
     "output_type": "stream",
     "text": [
      "Select a ROI and then press SPACE or ENTER button!\n",
      "Cancel the selection process by pressing c button!\n"
     ]
    }
   ],
   "source": [
    "import sys\n",
    "import numpy as np\n",
    "import cv2\n",
    "\n",
    "src = cv2.imread('../../data/lion_king.jpg')\n",
    "\n",
    "if src is None:\n",
    "    print('Image load failed!')\n",
    "    sys.exit()\n",
    "\n",
    "x,y,w,h = cv2.selectROI(src)\n",
    "src_ycrcb = cv2.cvtColor(src, cv2.COLOR_BGR2YCrCb)\n",
    "crop = src_ycrcb[y:y+h, x:x+w]\n",
    "\n",
    "channels = [1, 2]\n",
    "cr_bins = 128\n",
    "cb_bins = 128\n",
    "histSize = [cr_bins, cb_bins]\n",
    "cr_range = [0, 256]\n",
    "cb_range = [0, 256]\n",
    "ranges = cr_range + cb_range\n",
    "\n",
    "hist = cv2.calcHist([crop], channels, None, histSize, ranges)\n",
    "hist_norm = cv2.normalize(cv2.log(hist+1), None, 0, 255, cv2.NORM_MINMAX, cv2.CV_8U)\n",
    "backproj = cv2.calcBackProject([src_ycrcb], channels, hist, ranges, 1)\n",
    "\n",
    "dst = cv2.copyTo(src, backproj)\n",
    "cv2.imshow('backproj', backproj)\n",
    "cv2.imshow('hist_norm', hist_norm)\n",
    "cv2.imshow('dst', dst)\n",
    "cv2.imwrite('../../data/lion_king_mask.jpg', dst)\n",
    "cv2.waitKey()\n",
    "cv2.destroyAllWindows()"
   ]
  },
  {
   "cell_type": "code",
   "execution_count": 17,
   "metadata": {},
   "outputs": [],
   "source": [
    "import sys\n",
    "import numpy as np\n",
    "import cv2\n",
    "ref = cv2.imread('../../data/lion_king.jpg', cv2.IMREAD_COLOR)\n",
    "mask = cv2.imread('../../data/lion_king_mask.jpg', cv2.IMREAD_GRAYSCALE)\n",
    "\n",
    "if ref is None or mask is None:\n",
    "    print('Image load failed!')\n",
    "    sys.exit()\n",
    "\n",
    "ref_ycrcb = cv2.cvtColor(ref, cv2.COLOR_BGR2YCrCb)\n",
    "channels = [1, 2]\n",
    "ranges = [0, 256, 0, 256]\n",
    "hist = cv2.calcHist([ref_ycrcb], channels, mask, [128, 128], ranges)\n",
    "hist_norm = cv2.normalize(cv2.log(hist + 1), None, 0, 255,\n",
    "cv2.NORM_MINMAX, cv2.CV_8U)\n",
    "src = cv2.imread('../../data/lion_king_2.jpg', cv2.IMREAD_COLOR)\n",
    "\n",
    "if src is None:\n",
    "    print('Image load failed!')\n",
    "    sys.exit()\n",
    "\n",
    "src_ycrcb = cv2.cvtColor(src, cv2.COLOR_BGR2YCrCb)\n",
    "backproj = cv2.calcBackProject([src_ycrcb], channels, hist, ranges, 1)\n",
    "cv2.imshow('src', src)\n",
    "cv2.imshow('hist_norm', hist_norm)\n",
    "cv2.imshow('backproj', backproj)\n",
    "cv2.waitKey()\n",
    "cv2.destroyAllWindows()"
   ]
  },
  {
   "cell_type": "code",
   "execution_count": 19,
   "metadata": {},
   "outputs": [
    {
     "name": "stdout",
     "output_type": "stream",
     "text": [
      "frame_cnt1: 370\n",
      "frame_cnt2: 392\n"
     ]
    }
   ],
   "source": [
    "import sys\n",
    "import numpy as np\n",
    "import cv2\n",
    "\n",
    "\n",
    "cap1 = cv2.VideoCapture('../../data/video_src.mp4')\n",
    "\n",
    "if not cap1.isOpened():\n",
    "    print('video open failed!')\n",
    "    sys.exit()\n",
    "cap2 = cv2.VideoCapture('../../data/video_bg.mp4')\n",
    "\n",
    "\n",
    "if not cap2.isOpened():\n",
    "    print('video open failed!')\n",
    "    sys.exit()\n",
    "frame_cnt1 = round(cap1.get(cv2.CAP_PROP_FRAME_COUNT))\n",
    "frame_cnt2 = round(cap2.get(cv2.CAP_PROP_FRAME_COUNT))\n",
    "\n",
    "print('frame_cnt1:', frame_cnt1)\n",
    "print('frame_cnt2:', frame_cnt2)\n",
    "\n",
    "fps = cap1.get(cv2.CAP_PROP_FPS)\n",
    "delay = int(1000 / fps)\n",
    "\n",
    "\n",
    "# 합성 여부 플래그\n",
    "do_composit = False\n",
    "while True:\n",
    "    ret1, frame1 = cap1.read()\n",
    "    if not ret1:\n",
    "        break\n",
    "    if do_composit:\n",
    "        ret2, frame2 = cap2.read()\n",
    "        if not ret2:\n",
    "            break\n",
    "        hsv = cv2.cvtColor(frame1, cv2.COLOR_BGR2HSV)\n",
    "        mask = cv2.inRange(hsv, (50, 180, 0), (70, 255, 255))\n",
    "        cv2.copyTo(frame2, mask, frame1)\n",
    "    \n",
    "    cv2.imshow('frame', frame1)\n",
    "    key = cv2.waitKey(delay)\n",
    "\n",
    "    if key == ord(' '):\n",
    "        do_composit = not do_composit\n",
    "    elif key == 27:\n",
    "        break\n",
    "cap1.release()\n",
    "cap2.release()\n",
    "cv2.destroyAllWindows()"
   ]
  },
  {
   "cell_type": "code",
   "execution_count": null,
   "metadata": {},
   "outputs": [],
   "source": []
  }
 ],
 "metadata": {
  "kernelspec": {
   "display_name": "opencv",
   "language": "python",
   "name": "python3"
  },
  "language_info": {
   "codemirror_mode": {
    "name": "ipython",
    "version": 3
   },
   "file_extension": ".py",
   "mimetype": "text/x-python",
   "name": "python",
   "nbconvert_exporter": "python",
   "pygments_lexer": "ipython3",
   "version": "3.10.12"
  }
 },
 "nbformat": 4,
 "nbformat_minor": 2
}
